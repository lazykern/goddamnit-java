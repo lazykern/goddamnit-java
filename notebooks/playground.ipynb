{
 "cells": [
  {
   "cell_type": "code",
   "execution_count": 5,
   "id": "8643166d",
   "metadata": {},
   "outputs": [
    {
     "name": "stdout",
     "output_type": "stream",
     "text": [
      "Hello world\n"
     ]
    }
   ],
   "source": [
    "System.out.println(\"Hello world\");"
   ]
  },
  {
   "cell_type": "code",
   "execution_count": 3,
   "id": "0ea4dd24",
   "metadata": {},
   "outputs": [],
   "source": [
    "String[] sentence = {\"Java\", \"in\", \"Jupyter\", \"Notebook!!\", \"\", \"nice\"};"
   ]
  },
  {
   "cell_type": "code",
   "execution_count": 4,
   "id": "dcd8ac65",
   "metadata": {},
   "outputs": [
    {
     "name": "stdout",
     "output_type": "stream",
     "text": [
      "Java in Jupyter Notebook!! \n",
      "nice "
     ]
    }
   ],
   "source": [
    "for (String word : sentence) {\n",
    "    if (word.length() > 0) {\n",
    "        System.out.print(word+\" \");\n",
    "    }\n",
    "    else {\n",
    "        System.out.print(\"\\n\");\n",
    "    }\n",
    "}"
   ]
  },
  {
   "cell_type": "code",
   "execution_count": null,
   "id": "80eca81e",
   "metadata": {},
   "outputs": [],
   "source": []
  }
 ],
 "metadata": {
  "interpreter": {
   "hash": "22395fbb1d4c84b66485adad848efc135a73ef49bc67c06b1e1931ba8324c85f"
  },
  "kernelspec": {
   "display_name": "Java",
   "language": "java",
   "name": "python397jvsc74a57bd0b30c980b9555434ba33581db9aa7c446089d7eae17574d85922d6ead5a6a6b95"
  },
  "language_info": {
   "codemirror_mode": "java",
   "file_extension": ".jshell",
   "mimetype": "text/x-java-source",
   "name": "Java",
   "pygments_lexer": "java",
   "version": "11.0.13+8-Ubuntu-0ubuntu1.20.04"
  }
 },
 "nbformat": 4,
 "nbformat_minor": 5
}
