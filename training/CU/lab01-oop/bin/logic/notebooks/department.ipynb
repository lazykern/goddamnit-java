{
 "cells": [
  {
   "cell_type": "code",
   "execution_count": 16,
   "metadata": {},
   "outputs": [],
   "source": [
    "public class GuildMember {\n",
    "\tprivate String name;\n",
    "\tprivate String jobTitle;\n",
    "\tprivate String myDepartment;\n",
    "\tprivate int salary;\n",
    "\t\n",
    "\tpublic GuildMember(String name, String jobTitle, int salary) {\n",
    "\t\tthis.name = name;\n",
    "\t\tthis.jobTitle = jobTitle;\n",
    "\t\tthis.salary = salary;\n",
    "\t}\n",
    "\t\n",
    "\tpublic String getName() {\n",
    "\t\treturn name;\n",
    "\t}\n",
    "\tpublic void setName(String name) {\n",
    "\t\tname = (name.length() > 0) ? name : \"Anon\";\n",
    "\t}\n",
    "\tpublic String getJobTitle() {\n",
    "\t\treturn jobTitle;\n",
    "\t}\n",
    "\tpublic void setJobTitle(String jobTitle) {\n",
    "\t\tthis.jobTitle = (jobTitle.length() > 0) ? jobTitle : \"Adventurer\";\n",
    "\t}\n",
    "\tpublic String getMyDepartment() {\n",
    "\t\t\n",
    "\t\treturn getMyDepartment();\n",
    "\t}\n",
    "\tpublic void setMyDepartment(String myDepartment) {\n",
    "\t\tthis.myDepartment = myDepartment;\n",
    "\t}\n",
    "\tpublic int getSalary() {\n",
    "\t\t\n",
    "\t\treturn salary;\n",
    "\t}\n",
    "\tpublic void setSalary(int salary) {\n",
    "\t\t//TODO: Set the member's salary.\n",
    "\t\t//If it is less than 0, set is as 0.\n",
    "\t\t//If it is greater than 100000, set is as 100000.\n",
    "\t\tthis.salary = Math.min(100000, Math.max(0, salary));\n",
    "\t}\n",
    "\t\n",
    "\t//------------------------------------------\n",
    "\t//---do not edit anything below this line---\n",
    "\t//----but feel free to look at the code!----\n",
    "\t//------------------------------------------\n",
    "\t\n",
    "\tpublic String toString() {\n",
    "\t\treturn name + \" the \" + jobTitle + \" of the \" + myDepartment + \" Department (Salary: \" + salary + \")\";\n",
    "\t}\n",
    "}\n"
   ]
  },
  {
   "cell_type": "code",
   "execution_count": 17,
   "metadata": {},
   "outputs": [],
   "source": [
    "import java.util.ArrayList;\n",
    "\n",
    "public class Department {\n",
    "\tprivate String name;\n",
    "\tprivate ArrayList<GuildMember> departmentMembers;\n",
    "\t\n",
    "\tpublic Department(String name) {\n",
    "\t\tthis.name = name;\n",
    "\t\tthis.departmentMembers = new ArrayList<>();\n",
    "\n",
    "\t}\n",
    "\t\n",
    "\tpublic boolean setName(String name) {\n",
    "\t\tif (name.length() <= 0)\n",
    "\t\t\treturn false;\n",
    "\t\t\n",
    "\t\tthis.name = name;\n",
    "\t\treturn true;\n",
    "\t}\n",
    "\t\n",
    "\tpublic String getName() {\n",
    "\t\treturn name;\n",
    "\t}\n",
    "\t\n",
    "\tpublic void addMember(GuildMember m) {\n",
    "\t\tm.setMyDepartment(this.name);\n",
    "\t\tdepartmentMembers.add(m);\n",
    "\t}\n",
    "\t\n",
    "\tpublic void addMultipleMembers(ArrayList<GuildMember> memberList) {\n",
    "\t\tfor (GuildMember m: memberList) \n",
    "\t\t{\t\n",
    "\t\t\tm.setMyDepartment(this.name);\n",
    "\t\t\tdepartmentMembers.add(m);\n",
    "\t\t}\n",
    "\t}\n",
    "\t\n",
    "\tpublic GuildMember removeMember(int index) {\n",
    "\t\tGuildMember m = departmentMembers.remove(index);\n",
    "\t\tm.setMyDepartment(null);\n",
    "\t\treturn m;\n",
    "\t}\n",
    "\t\n",
    "\tpublic GuildMember getMember(int index) {\n",
    "\t\treturn departmentMembers.get(index);\n",
    "\t}\n",
    "\t\n",
    "\tpublic ArrayList<GuildMember> getAllMembers(){\n",
    "\t\treturn departmentMembers;\n",
    "\t}\n",
    "\t\n",
    "\t//------------------------------------------\n",
    "\t//---do not edit anything below this line---\n",
    "\t//----but feel free to look at the code!----\n",
    "\t//------------------------------------------\n",
    "\t\n",
    "\tpublic void printMembers() {\n",
    "\t\tif(departmentMembers.size() <= 0) {\n",
    "\t\t\tSystem.out.println(\"This department is empty!\");\n",
    "\t\t\treturn;\n",
    "\t\t}\n",
    "\t\t\n",
    "\t\tint i = 0;\n",
    "\t\tfor (GuildMember m : departmentMembers) {\n",
    "\t\t\tSystem.out.println(i + \") \" + m);\n",
    "\t\t\ti++;\n",
    "\t\t}\n",
    "\t}\n",
    "\t\n",
    "\tpublic void clearDepartment() {\n",
    "\t\tdepartmentMembers.clear();\n",
    "\t}\n",
    "\t\n",
    "\tpublic String toString() {\n",
    "\t\treturn name + \" Department\";\n",
    "\t}\n",
    "\t\n",
    "\tpublic int memberCount() {\n",
    "\t\treturn departmentMembers.size();\n",
    "\t}\n",
    "}\n"
   ]
  },
  {
   "cell_type": "code",
   "execution_count": null,
   "metadata": {},
   "outputs": [],
   "source": [
    "package logic;\n",
    "\n",
    "import java.util.ArrayList;\n",
    "\n",
    "public class GuildDatabase {\n",
    "\tprivate ArrayList<Department> myDepartments;\n",
    "\n",
    "\tpublic GuildDatabase() {\n",
    "\t\tthis.myDepartments = new ArrayList<>();\n",
    "\t}\n",
    "\n",
    "\tpublic boolean createDepartment(String name) {\n",
    "\t\tif (myDepartments.stream().anyMatch(d -> d.getName().equals(name)))\n",
    "\t\t\treturn false;\n",
    "\n",
    "\t\tDepartment newDepartment = new Department(name);\n",
    "\t\tmyDepartments.add(newDepartment);\n",
    "\n",
    "\t\treturn true;\n",
    "\t}\n",
    "\n",
    "\tpublic boolean isExists(String name) {\n",
    "\t\treturn myDepartments.stream().anyMatch(d -> d.getName().equals(name));\n",
    "\t}\n",
    "\n",
    "\tpublic ArrayList<GuildMember> removeDepartment(int index) {\n",
    "\n",
    "\t\treturn myDepartments.remove(index).getAllMembers();\n",
    "\t}\n",
    "\n",
    "\t// ------------------------------------------\n",
    "\t// ---do not edit anything below this line---\n",
    "\t// ----but feel free to look at the code!----\n",
    "\t// ------------------------------------------\n",
    "\n",
    "\tpublic Department getDepartment(int index) {\n",
    "\t\treturn myDepartments.get(index);\n",
    "\t}\n",
    "\n",
    "\tpublic void printDepartments() {\n",
    "\t\tint i = 0;\n",
    "\t\tfor (Department d : myDepartments) {\n",
    "\t\t\tSystem.out.println(i + \") \" + d);\n",
    "\t\t\ti++;\n",
    "\t\t}\n",
    "\t}\n",
    "\n",
    "\tpublic int departmentCount() {\n",
    "\t\treturn myDepartments.size();\n",
    "\t}\n",
    "}\n"
   ]
  },
  {
   "cell_type": "code",
   "execution_count": 18,
   "metadata": {},
   "outputs": [],
   "source": [
    "GuildMember m1 = new GuildMember(\"ass\", \"hole\", 999)"
   ]
  },
  {
   "cell_type": "code",
   "execution_count": 19,
   "metadata": {},
   "outputs": [
    {
     "data": {
      "text/plain": [
       "ass the hole of the null Department (Salary: 100000)"
      ]
     },
     "execution_count": 19,
     "metadata": {},
     "output_type": "execute_result"
    }
   ],
   "source": [
    "m1.setSalary(9999999);\n",
    "m1.toString()"
   ]
  },
  {
   "cell_type": "code",
   "execution_count": 20,
   "metadata": {},
   "outputs": [],
   "source": [
    "GuildMember m2 = new GuildMember(\"help\", \"me\", -1)"
   ]
  },
  {
   "cell_type": "code",
   "execution_count": 21,
   "metadata": {},
   "outputs": [],
   "source": [
    "Department d1 = new Department(\"hey\");"
   ]
  },
  {
   "cell_type": "code",
   "execution_count": 22,
   "metadata": {},
   "outputs": [
    {
     "data": {
      "text/plain": [
       "true"
      ]
     },
     "execution_count": 22,
     "metadata": {},
     "output_type": "execute_result"
    }
   ],
   "source": [
    "ArrayList<GuildMember> members = new ArrayList<>();\n",
    "members.add(m1);\n",
    "members.add(m2);"
   ]
  },
  {
   "cell_type": "code",
   "execution_count": 23,
   "metadata": {},
   "outputs": [
    {
     "data": {
      "text/plain": [
       "[ass the hole of the null Department (Salary: 100000), help the me of the null Department (Salary: -1)]"
      ]
     },
     "execution_count": 23,
     "metadata": {},
     "output_type": "execute_result"
    }
   ],
   "source": [
    "members"
   ]
  },
  {
   "cell_type": "code",
   "execution_count": 24,
   "metadata": {},
   "outputs": [],
   "source": [
    "d1.addMultipleMembers(members)"
   ]
  },
  {
   "cell_type": "code",
   "execution_count": 25,
   "metadata": {},
   "outputs": [
    {
     "data": {
      "text/plain": [
       "help the me of the hey Department (Salary: -1)"
      ]
     },
     "execution_count": 25,
     "metadata": {},
     "output_type": "execute_result"
    }
   ],
   "source": [
    "m2"
   ]
  },
  {
   "cell_type": "code",
   "execution_count": 26,
   "metadata": {},
   "outputs": [
    {
     "data": {
      "text/plain": [
       "[ass the hole of the hey Department (Salary: 100000), help the me of the hey Department (Salary: -1)]"
      ]
     },
     "execution_count": 26,
     "metadata": {},
     "output_type": "execute_result"
    }
   ],
   "source": [
    "d1.getAllMembers()"
   ]
  },
  {
   "cell_type": "code",
   "execution_count": 27,
   "metadata": {},
   "outputs": [
    {
     "data": {
      "text/plain": [
       "help the me of the null Department (Salary: -1)"
      ]
     },
     "execution_count": 27,
     "metadata": {},
     "output_type": "execute_result"
    }
   ],
   "source": [
    "d1.removeMember(1)"
   ]
  },
  {
   "cell_type": "code",
   "execution_count": 28,
   "metadata": {},
   "outputs": [
    {
     "data": {
      "text/plain": [
       "[ass the hole of the hey Department (Salary: 100000)]"
      ]
     },
     "execution_count": 28,
     "metadata": {},
     "output_type": "execute_result"
    }
   ],
   "source": [
    "d1.getAllMembers()"
   ]
  },
  {
   "cell_type": "code",
   "execution_count": 29,
   "metadata": {},
   "outputs": [
    {
     "data": {
      "text/plain": [
       "help the me of the null Department (Salary: -1)"
      ]
     },
     "execution_count": 29,
     "metadata": {},
     "output_type": "execute_result"
    }
   ],
   "source": [
    "m2"
   ]
  },
  {
   "cell_type": "code",
   "execution_count": null,
   "metadata": {},
   "outputs": [],
   "source": []
  }
 ],
 "metadata": {
  "kernelspec": {
   "display_name": "Java",
   "language": "java",
   "name": "python397jvsc74a57bd0b30c980b9555434ba33581db9aa7c446089d7eae17574d85922d6ead5a6a6b95"
  },
  "language_info": {
   "codemirror_mode": "java",
   "file_extension": ".jshell",
   "mimetype": "text/x-java-source",
   "name": "java",
   "pygments_lexer": "java",
   "version": "11.0.13+8-Ubuntu-0ubuntu1.20.04"
  },
  "orig_nbformat": 4
 },
 "nbformat": 4,
 "nbformat_minor": 2
}
