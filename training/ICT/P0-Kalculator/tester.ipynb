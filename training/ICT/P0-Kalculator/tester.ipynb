{
 "cells": [
  {
   "cell_type": "markdown",
   "id": "b3785ccf",
   "metadata": {},
   "source": [
    "# Class Declaration"
   ]
  },
  {
   "cell_type": "code",
   "execution_count": 2,
   "id": "778d72a7",
   "metadata": {},
   "outputs": [],
   "source": [
    "import java.util.ArrayList;\n",
    "import java.util.List;\n",
    "import java.util.Collections;"
   ]
  },
  {
   "cell_type": "code",
   "execution_count": 33,
   "id": "5173b68f",
   "metadata": {},
   "outputs": [],
   "source": [
    "public class Kalculator {\n",
    "\n",
    "    List<Double> data = new ArrayList<Double>();\n",
    "\n",
    "    public Kalculator() {\n",
    "    }\n",
    "\n",
    "    public void addNumber(double number) {\n",
    "        data.add(number);\n",
    "    }\n",
    "\n",
    "    public void deleteFirstNumber() {\n",
    "        if (data.size() > 0) {\n",
    "            data.remove(0);\n",
    "        }\n",
    "    }\n",
    "\n",
    "    public void deleteLastNumber() {\n",
    "        if (data.size() > 0) {\n",
    "            data.remove(data.size() - 1);\n",
    "        }\n",
    "    }\n",
    "\n",
    "    public double getSum() {\n",
    "        if (data.size() > 0) {\n",
    "            double sum = 0;\n",
    "            for (double d : data) {\n",
    "                sum += d;\n",
    "            }\n",
    "            return sum;\n",
    "        } else {\n",
    "            return 0;\n",
    "        }\n",
    "\n",
    "    }\n",
    "\n",
    "    public double getAvg() {\n",
    "        if (data.size() > 0) {\n",
    "            return getSum() / data.size();\n",
    "        } else {\n",
    "            return 0;\n",
    "        }\n",
    "    }\n",
    "\n",
    "    public double getStd() {\n",
    "        if (data.size() > 1) {\n",
    "            double avg = getAvg();\n",
    "            double std = 0;\n",
    "            for (double d : data) {\n",
    "                std += Math.pow(d - avg, 2);\n",
    "            }\n",
    "            return Math.sqrt(std / data.size());\n",
    "        } else {\n",
    "            return 0;\n",
    "        }\n",
    "    }\n",
    "\n",
    "    public double getMax() {\n",
    "        if (data.size() > 0) {\n",
    "            double max = data.get(0);\n",
    "            for (double d : data) {\n",
    "                if (d > max) {\n",
    "                    max = d;\n",
    "                }\n",
    "            }\n",
    "            return max;\n",
    "        } else {\n",
    "            return 0;\n",
    "        }\n",
    "    }\n",
    "\n",
    "    public double getMin() {\n",
    "        if (data.size() > 0) {\n",
    "            double min = data.get(0);\n",
    "            for (double d : data) {\n",
    "                if (d < min) {\n",
    "                    min = d;\n",
    "                }\n",
    "            }\n",
    "            return min;\n",
    "        } else {\n",
    "            return 0;\n",
    "        }\n",
    "    }\n",
    "\n",
    "    public double[] getMaxK(int k) {\n",
    "\n",
    "        if (data.size() >= k) {\n",
    "\n",
    "            List<Double> temp_list = new ArrayList<>(data);\n",
    "\n",
    "            Collections.sort(temp_list, Collections.reverseOrder());\n",
    "\n",
    "            temp_list = temp_list.subList(0, k);\n",
    "\n",
    "            return temp_list.stream().mapToDouble(Double::doubleValue).toArray();\n",
    "        }\n",
    "        else return null;\n",
    "    }\n",
    "\n",
    "    public double[] getMinK(int k) {\n",
    "\n",
    "        if (data.size() >= k) {\n",
    "\n",
    "            List<Double> temp_list = new ArrayList<>(data);\n",
    "\n",
    "            Collections.sort(temp_list);\n",
    "\n",
    "            temp_list = temp_list.subList(0, k);\n",
    "\n",
    "            return temp_list.stream().mapToDouble(Double::doubleValue).toArray();\n",
    "    \n",
    "        }\n",
    "        else return null;\n",
    "    }\n",
    "\n",
    "    public void printData() {\n",
    "        System.out.printf(\"DATA[%d]:%s\\n\",data.size(), data.toString());\n",
    "    }\n",
    "\n",
    "}"
   ]
  },
  {
   "cell_type": "markdown",
   "id": "7c637523",
   "metadata": {},
   "source": [
    "# Testing"
   ]
  },
  {
   "cell_type": "code",
   "execution_count": 31,
   "id": "af0416cd",
   "metadata": {},
   "outputs": [
    {
     "data": {
      "text/plain": [
       "[100.0, 200.0]"
      ]
     },
     "execution_count": 31,
     "metadata": {},
     "output_type": "execute_result"
    }
   ],
   "source": [
    "Kalculator ktor1 = new Kalculator();\n",
    "ktor1.addNumber(100);\n",
    "ktor1.addNumber(200);\n",
    "ktor1.data"
   ]
  },
  {
   "cell_type": "code",
   "execution_count": 32,
   "id": "8cd1b048",
   "metadata": {},
   "outputs": [
    {
     "data": {
      "text/plain": [
       "[100.0]"
      ]
     },
     "execution_count": 32,
     "metadata": {},
     "output_type": "execute_result"
    }
   ],
   "source": [
    "Kalculator ktor2 = new Kalculator();\n",
    "ktor2.addNumber(100);\n",
    "ktor2.data"
   ]
  },
  {
   "cell_type": "code",
   "execution_count": null,
   "id": "57befe47",
   "metadata": {},
   "outputs": [],
   "source": [
    "!"
   ]
  }
 ],
 "metadata": {
  "interpreter": {
   "hash": "22395fbb1d4c84b66485adad848efc135a73ef49bc67c06b1e1931ba8324c85f"
  },
  "kernelspec": {
   "display_name": "Java",
   "language": "java",
   "name": "python397jvsc74a57bd0b30c980b9555434ba33581db9aa7c446089d7eae17574d85922d6ead5a6a6b95"
  },
  "language_info": {
   "codemirror_mode": "java",
   "file_extension": ".jshell",
   "mimetype": "text/x-java-source",
   "name": "Java",
   "pygments_lexer": "java",
   "version": "11.0.13+8-Ubuntu-0ubuntu1.20.04"
  }
 },
 "nbformat": 4,
 "nbformat_minor": 5
}
