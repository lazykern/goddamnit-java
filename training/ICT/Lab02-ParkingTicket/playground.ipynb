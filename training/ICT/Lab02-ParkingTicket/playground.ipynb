{
 "cells": [
  {
   "cell_type": "code",
   "execution_count": 52,
   "metadata": {},
   "outputs": [],
   "source": [
    "import java.time.Duration;\n",
    "import java.util.Scanner;\n",
    "\n",
    "public class ParkingTicket {\n",
    "\n",
    "    public static final String ANSI_RESET = \"\\u001B[0m\";\n",
    "    public static final String ANSI_GREEN = \"\\u001B[32m\";\n",
    "    public static final String ANSI_YELLOW = \"\\u001B[33m\";\n",
    "    public static final String ANSI_RED = \"\\u001B[31m\";\n",
    "\n",
    "    // Constructor for testing\n",
    "    public ParkingTicket() {\n",
    "    }\n",
    "\n",
    "    public static int parseTime(String time) {\n",
    "        int inp_hour = Integer.valueOf(time.substring(0, 2));\n",
    "        int inp_minuite = Integer.valueOf(time.substring(2, 4));\n",
    "\n",
    "        return inp_hour * 60 + inp_minuite;\n",
    "    }\n",
    "\n",
    "    public static int[] calculateDuration(String enterTime, String leaveTime) {\n",
    "        int total_minuite = parseTime(leaveTime) - parseTime(enterTime);\n",
    "\n",
    "        int hour = total_minuite / 60;\n",
    "        int minute = total_minuite % 60;\n",
    "\n",
    "        int[] result = { hour, minute };\n",
    "\n",
    "        return result;\n",
    "    }\n",
    "\n",
    "    public static void visualize(int hour, int minute) {\n",
    "\n",
    "        System.out.println();\n",
    "\n",
    "        for (int i = 1; i <= hour; ++i) {\n",
    "            System.out.println(\n",
    "                    ANSI_GREEN + \"=====\" + ANSI_YELLOW + \"===\" + ANSI_RED + \"==\" + ANSI_RESET + \" | \" + i + \" hours\");\n",
    "        }\n",
    "\n",
    "        if (minute > 0) {\n",
    "\n",
    "            int scaled_min = minute / 6;\n",
    "\n",
    "            for (int i = 1; i <= scaled_min; ++i) {\n",
    "                if (i <= 4) {\n",
    "                    System.out.print(ANSI_GREEN + \"=\");\n",
    "                } else if (i <= 7) {\n",
    "                    System.out.print(ANSI_YELLOW + \"=\");\n",
    "                } else if (i <= 10) {\n",
    "                    System.out.print(ANSI_RED + \"=\");\n",
    "                }\n",
    "            }\n",
    "\n",
    "            for (int i = 0; i < 10 - scaled_min; ++i) {\n",
    "                System.out.print(\" \");\n",
    "            }\n",
    "\n",
    "            System.out.print(ANSI_RESET + \" | \" + minute + \" minutes\\n\");\n",
    "\n",
    "        }\n",
    "\n",
    "        System.out.println();\n",
    "        \n",
    "    }\n",
    "\n",
    "    public static int calculateFee(int hour, int minute) {\n",
    "\n",
    "        int total_fee = (hour > 0) ? 10 : 0;\n",
    "\n",
    "        if (hour > 2)\n",
    "            total_fee += (hour - 2) * 40;\n",
    "        if (minute > 0)\n",
    "            total_fee += 40;\n",
    "\n",
    "        return total_fee;\n",
    "    }\n",
    "\n",
    "    public static void printParkingDuration(String enterTime, String leaveTime) {\n",
    "        System.out.printf(\"Parking duration: %d hours and %d minutes\\n\", calculateDuration(enterTime, leaveTime));\n",
    "\n",
    "    }\n",
    "\n",
    "    public static void printParkingFee(int hour, int minute) {\n",
    "        System.out.println(\"Total parking fee: \" + calculateFee(hour, minute) + \" Baht\");\n",
    "    }\n",
    "\n",
    "    public static void main(String[] args) {\n",
    "        Scanner sc = new Scanner(System.in);\n",
    "\n",
    "        System.out.print(\"Entering time -> \");\n",
    "        String enterTime = sc.nextLine();\n",
    "\n",
    "        System.out.print(\"Leaving time -> \");\n",
    "        String leaveTime = sc.nextLine();\n",
    "\n",
    "        int[] duration = calculateDuration(enterTime, leaveTime);\n",
    "        int hour = duration[0];\n",
    "        int minute = duration[1];\n",
    "\n",
    "        visualize(hour, minute);\n",
    "\n",
    "        printParkingFee(hour, minute);\n",
    "    }\n",
    "}"
   ]
  },
  {
   "cell_type": "code",
   "execution_count": 53,
   "metadata": {},
   "outputs": [],
   "source": [
    "ParkingTicket parking = new ParkingTicket();"
   ]
  },
  {
   "cell_type": "code",
   "execution_count": 58,
   "metadata": {},
   "outputs": [
    {
     "data": {
      "text/plain": [
       "7"
      ]
     },
     "execution_count": 58,
     "metadata": {},
     "output_type": "execute_result"
    }
   ],
   "source": [
    "(parking.parseTime(\"1715\") - parking.parseTime(\"0950\"))/60"
   ]
  },
  {
   "cell_type": "code",
   "execution_count": 56,
   "metadata": {},
   "outputs": [
    {
     "data": {
      "text/plain": [
       "590"
      ]
     },
     "execution_count": 56,
     "metadata": {},
     "output_type": "execute_result"
    }
   ],
   "source": []
  },
  {
   "cell_type": "code",
   "execution_count": null,
   "metadata": {},
   "outputs": [],
   "source": []
  }
 ],
 "metadata": {
  "kernelspec": {
   "display_name": "Java",
   "language": "java",
   "name": "python397jvsc74a57bd0b30c980b9555434ba33581db9aa7c446089d7eae17574d85922d6ead5a6a6b95"
  },
  "language_info": {
   "codemirror_mode": "java",
   "file_extension": ".jshell",
   "mimetype": "text/x-java-source",
   "name": "java",
   "pygments_lexer": "java",
   "version": "11.0.13+8-Ubuntu-0ubuntu1.20.04"
  },
  "orig_nbformat": 4
 },
 "nbformat": 4,
 "nbformat_minor": 2
}
